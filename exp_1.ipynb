{
  "nbformat": 4,
  "nbformat_minor": 0,
  "metadata": {
    "colab": {
      "provenance": [],
      "authorship_tag": "ABX9TyMEXriBpSbI+NmxjHJxnlva",
      "include_colab_link": true
    },
    "kernelspec": {
      "name": "python3",
      "display_name": "Python 3"
    },
    "language_info": {
      "name": "python"
    }
  },
  "cells": [
    {
      "cell_type": "markdown",
      "metadata": {
        "id": "view-in-github",
        "colab_type": "text"
      },
      "source": [
        "<a href=\"https://colab.research.google.com/github/Anjanachenchani/Analog-clock/blob/main/exp_1.ipynb\" target=\"_parent\"><img src=\"https://colab.research.google.com/assets/colab-badge.svg\" alt=\"Open In Colab\"/></a>"
      ]
    },
    {
      "cell_type": "code",
      "execution_count": 2,
      "metadata": {
        "colab": {
          "base_uri": "https://localhost:8080/"
        },
        "id": "VwdW1V9HtO1F",
        "outputId": "0aea8029-15ca-4408-80c1-add0cf7b5e7a"
      },
      "outputs": [
        {
          "output_type": "stream",
          "name": "stdout",
          "text": [
            "20.2\n"
          ]
        }
      ],
      "source": [
        "# Mean\n",
        "list1 = [12, 16, 20, 20, 12, 30, 25, 23, 24, 20]\n",
        "mean = sum(list1)/len(list1)\n",
        "print(mean)"
      ]
    },
    {
      "cell_type": "code",
      "source": [
        "n_num = [1, 2, 3, 4, 5]\n",
        "n = len(n_num)\n",
        "n_num.sort()\n",
        "\n",
        "if n % 2 == 0:\n",
        "    median1 = n_num[n//2]\n",
        "    median2 = n_num[n//2 - 1]\n",
        "    median = (median1 + median2)/2\n",
        "else:\n",
        "    median = n_num[n//2]\n",
        "print(\"Median is: \" + str(median))\n"
      ],
      "metadata": {
        "colab": {
          "base_uri": "https://localhost:8080/"
        },
        "id": "zb6C_9iqteIL",
        "outputId": "b2b81985-2d41-40aa-8757-7a096b6260f9"
      },
      "execution_count": 3,
      "outputs": [
        {
          "output_type": "stream",
          "name": "stdout",
          "text": [
            "Median is: 3\n"
          ]
        }
      ]
    },
    {
      "cell_type": "code",
      "source": [
        "list1 = [12, 16, 20, 20, 12, 30, 25, 23, 24, 20]\n",
        "frequency = {}\n",
        "for i in list1:\n",
        "    frequency.setdefault(i, 0)\n",
        "    frequency[i]+=1\n",
        "\n",
        "frequent = max(frequency.values())\n",
        "for i, j in frequency.items():\n",
        "    if j == frequent:\n",
        "        mode=i\n",
        "print(mode)"
      ],
      "metadata": {
        "colab": {
          "base_uri": "https://localhost:8080/"
        },
        "id": "8L2eCOYytpUL",
        "outputId": "b2c122e9-a2cb-48fc-9ef2-c1907c96fd59"
      },
      "execution_count": 6,
      "outputs": [
        {
          "output_type": "stream",
          "name": "stdout",
          "text": [
            "20\n"
          ]
        }
      ]
    },
    {
      "cell_type": "code",
      "source": [
        "def variance(val):\n",
        "    numb = len(val)\n",
        "    # m will have the mean value\n",
        "    m = sum(val) / numb\n",
        "    # Square deviations\n",
        "    devi = [(x - m) ** 2 for x in val]\n",
        "    # Variance\n",
        "    variance = sum(devi) / numb\n",
        "    return variance\n",
        "\n",
        "print(variance([6, 6, 3, 9, 4, 3, 6, 9, 7, 8]))"
      ],
      "metadata": {
        "colab": {
          "base_uri": "https://localhost:8080/"
        },
        "id": "hrkzC4VMtpgh",
        "outputId": "f2135dde-f147-4b1c-d18c-d5c91a66da16"
      },
      "execution_count": 7,
      "outputs": [
        {
          "output_type": "stream",
          "name": "stdout",
          "text": [
            "4.49\n"
          ]
        }
      ]
    },
    {
      "cell_type": "code",
      "source": [
        "import math\n",
        "# Finding the variance is essential before calculating the standard deviation\n",
        "def varinc(val, ddof=0):\n",
        "    n = len(val)\n",
        "    m = sum(val) / n\n",
        "    return sum((x - m) ** 2 for x in val) / (n - ddof)\n",
        "# finding the standard deviation\n",
        "def stddev(val):\n",
        "    vari = varinc(val)\n",
        "    stdev = math.sqrt(vari)\n",
        "    return stdev\n",
        "print (stddev([5, 9, 6, 2, 6, 3, 7, 4, 8, 6]))"
      ],
      "metadata": {
        "colab": {
          "base_uri": "https://localhost:8080/"
        },
        "id": "Ek9ZcIKruDjL",
        "outputId": "1fc4eb22-0380-4f93-f91d-9a8750e43940"
      },
      "execution_count": 8,
      "outputs": [
        {
          "output_type": "stream",
          "name": "stdout",
          "text": [
            "2.0591260281974004\n"
          ]
        }
      ]
    },
    {
      "cell_type": "code",
      "source": [
        "import statistics\n",
        "populated = statistics.pstdev([5, 9, 6, 2, 6, 3, 7, 4, 8, 6])\n",
        "sample = statistics.stdev([5, 9, 6, 2, 6, 3, 7, 4, 8, 6])\n",
        "print(populated)\n",
        "print(sample)\n"
      ],
      "metadata": {
        "colab": {
          "base_uri": "https://localhost:8080/"
        },
        "id": "NDwiZX7ruJSh",
        "outputId": "166eaa61-6d93-4a64-86be-501c92ad3d7a"
      },
      "execution_count": 9,
      "outputs": [
        {
          "output_type": "stream",
          "name": "stdout",
          "text": [
            "2.0591260281974\n",
            "2.1705094128132942\n"
          ]
        }
      ]
    }
  ]
}