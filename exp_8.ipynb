{
  "nbformat": 4,
  "nbformat_minor": 0,
  "metadata": {
    "colab": {
      "provenance": [],
      "authorship_tag": "ABX9TyN8kBYrmhZA0h4wvZiMkH/9",
      "include_colab_link": true
    },
    "kernelspec": {
      "name": "python3",
      "display_name": "Python 3"
    },
    "language_info": {
      "name": "python"
    }
  },
  "cells": [
    {
      "cell_type": "markdown",
      "metadata": {
        "id": "view-in-github",
        "colab_type": "text"
      },
      "source": [
        "<a href=\"https://colab.research.google.com/github/Anjanachenchani/Analog-clock/blob/main/exp_8.ipynb\" target=\"_parent\"><img src=\"https://colab.research.google.com/assets/colab-badge.svg\" alt=\"Open In Colab\"/></a>"
      ]
    },
    {
      "cell_type": "code",
      "execution_count": 4,
      "metadata": {
        "colab": {
          "base_uri": "https://localhost:8080/",
          "height": 1000
        },
        "id": "PxzoHCSo4z4z",
        "outputId": "51d113bf-012e-427f-944b-053ecf4cda6a"
      },
      "outputs": [
        {
          "output_type": "stream",
          "name": "stdout",
          "text": [
            "<class 'pandas.core.frame.DataFrame'>\n",
            "RangeIndex: 400 entries, 0 to 399\n",
            "Data columns (total 4 columns):\n",
            " #   Column           Non-Null Count  Dtype \n",
            "---  ------           --------------  ----- \n",
            " 0   Gender           400 non-null    object\n",
            " 1   Age              400 non-null    int64 \n",
            " 2   EstimatedSalary  400 non-null    int64 \n",
            " 3   Purchased        400 non-null    int64 \n",
            "dtypes: int64(3), object(1)\n",
            "memory usage: 12.6+ KB\n",
            "     Actual  Predicted\n",
            "398       0          0\n",
            "125       0          0\n",
            "328       1          1\n",
            "339       1          1\n",
            "172       0          0\n",
            "..      ...        ...\n",
            "91        0          0\n",
            "322       0          0\n",
            "248       0          0\n",
            "186       0          0\n",
            "395       1          0\n",
            "\n",
            "[120 rows x 2 columns]\n",
            "Confusion Matrix \n",
            " [[63  9]\n",
            " [14 34]]\n",
            "Accuracy of model\n",
            "80.83333333333333 %\n",
            "Classification report: \n",
            "                    precision    recall  f1-score   support\n",
            "\n",
            "will NOT PURCHASE       0.82      0.88      0.85        72\n",
            "    will PURCHASE       0.79      0.71      0.75        48\n",
            "\n",
            "         accuracy                           0.81       120\n",
            "        macro avg       0.80      0.79      0.80       120\n",
            "     weighted avg       0.81      0.81      0.81       120\n",
            "\n"
          ]
        },
        {
          "output_type": "display_data",
          "data": {
            "text/plain": [
              "<Figure size 640x480 with 2 Axes>"
            ],
            "image/png": "[encoded data removed]"
          },
          "metadata": {}
        }
      ],
      "source": [
        "import numpy as np\n",
        "import pandas as pd\n",
        "import matplotlib.pyplot as plt\n",
        "import seaborn as sns\n",
        "from sklearn.preprocessing import StandardScaler\n",
        "from sklearn.model_selection import train_test_split\n",
        "from sklearn.linear_model import LogisticRegression\n",
        "from sklearn.metrics import confusion_matrix, classification_report, accuracy_score\n",
        "\n",
        "social_N_data = pd.read_csv('/content/Social_Network_Ads.csv')\n",
        "pd.concat([social_N_data.head(), social_N_data.tail()])\n",
        "\n",
        "#CHECK FOR NULL VALUES\n",
        "social_N_data.isnull().any()\n",
        "\n",
        "# CLEAN THE DATA\n",
        "social_N_data.drop('User ID', axis=1, inplace=True)\n",
        "\n",
        "# CHANGE CATEGORICAL VARIABLE TO DUMMIES\n",
        "social_N_data.info()\n",
        "gender = pd.get_dummies(social_N_data['Gender'], drop_first=True)\n",
        "social_N_data.drop('Gender',axis=1,inplace=True)\n",
        "social_N_data = pd.concat([social_N_data,gender], axis=1)\n",
        "\n",
        "# SPLIT DATA TO INDEPENDENT AND DEPENDENT VARIABLES\n",
        "X = social_N_data.iloc[:,[0,1,3]] # Age, EstimatedSalary and Male\n",
        "y = social_N_data.iloc[:, 2] # Purchased\n",
        "\n",
        "# FEATURE SCALING\n",
        "sc = StandardScaler()\n",
        "X = sc.fit_transform(X)\n",
        "\n",
        "# SPLIT DATA TO TRAIN AND TEST SET\n",
        "X_train, X_test, y_train, y_test = train_test_split(X, y, test_size=0.30, random_state=1)\n",
        "\n",
        "# FIT/TRAIN MODEL\n",
        "classifier = LogisticRegression()\n",
        "classifier.fit(X_train, y_train)\n",
        "\n",
        "# PREDICTIONS\n",
        "y_pred = classifier.predict(X_test)\n",
        "result = pd.DataFrame({'Actual' : y_test, 'Predicted' : y_pred})\n",
        "print(result)\n",
        "\n",
        "# EVALUATE MODEL\n",
        "# predic_proba()\n",
        "# print(classifier.predict_proba(X) # uncheck if needed\n",
        "#confusion matrix\n",
        "cf_matrix = confusion_matrix(y_test, y_pred)\n",
        "print('Confusion Matrix \\n', cf_matrix)\n",
        "\n",
        "sns.heatmap(pd.DataFrame(cf_matrix), annot=True, cmap=\"YlGnBu\" ,fmt='g')\n",
        "plt.title('Confusion matrix', y=1.1)\n",
        "plt.ylabel('Actual label')\n",
        "plt.xlabel('Predicted label')\n",
        "\n",
        "print('Accuracy of model')\n",
        "print(accuracy_score(y_test,y_pred) * 100, '%')\n",
        "#0.8083333333333333\n",
        "\n",
        "# classification report\n",
        "target_names = ['will NOT PURCHASE', 'will PURCHASE']\n",
        "print('Classification report: \\n', classification_report(y_test, y_pred,target_names=target_names))\n",
        "\n",
        "\n"
      ]
    }
  ]
}