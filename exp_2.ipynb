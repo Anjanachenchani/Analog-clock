{
  "nbformat": 4,
  "nbformat_minor": 0,
  "metadata": {
    "colab": {
      "provenance": [],
      "authorship_tag": "ABX9TyO3/CoyhJ04tQoWInMzdoM7",
      "include_colab_link": true
    },
    "kernelspec": {
      "name": "python3",
      "display_name": "Python 3"
    },
    "language_info": {
      "name": "python"
    }
  },
  "cells": [
    {
      "cell_type": "markdown",
      "metadata": {
        "id": "view-in-github",
        "colab_type": "text"
      },
      "source": [
        "<a href=\"https://colab.research.google.com/github/Anjanachenchani/Analog-clock/blob/main/exp_2.ipynb\" target=\"_parent\"><img src=\"https://colab.research.google.com/assets/colab-badge.svg\" alt=\"Open In Colab\"/></a>"
      ]
    },
    {
      "cell_type": "code",
      "execution_count": 1,
      "metadata": {
        "id": "AgykSFQTfo8_",
        "colab": {
          "base_uri": "https://localhost:8080/",
          "height": 219
        },
        "outputId": "d6911ff5-690e-4d76-e32f-cce37bd22695"
      },
      "outputs": [
        {
          "output_type": "error",
          "ename": "NameError",
          "evalue": "name 'stats' is not defined",
          "traceback": [
            "\u001b[0;31m---------------------------------------------------------------------------\u001b[0m",
            "\u001b[0;31mNameError\u001b[0m                                 Traceback (most recent call last)",
            "\u001b[0;32m<ipython-input-1-f6977e4506d9>\u001b[0m in \u001b[0;36m<cell line: 0>\u001b[0;34m()\u001b[0m\n\u001b[1;32m      1\u001b[0m \u001b[0mdata\u001b[0m \u001b[0;34m=\u001b[0m \u001b[0;34m[\u001b[0m\u001b[0;36m2\u001b[0m\u001b[0;34m,\u001b[0m \u001b[0;36m4\u001b[0m\u001b[0;34m,\u001b[0m \u001b[0;36m6\u001b[0m\u001b[0;34m,\u001b[0m \u001b[0;36m8\u001b[0m\u001b[0;34m,\u001b[0m \u001b[0;36m10\u001b[0m\u001b[0;34m,\u001b[0m \u001b[0;36m12\u001b[0m\u001b[0;34m,\u001b[0m \u001b[0;36m14\u001b[0m\u001b[0;34m]\u001b[0m\u001b[0;34m\u001b[0m\u001b[0;34m\u001b[0m\u001b[0m\n\u001b[1;32m      2\u001b[0m \u001b[0;31m# Mean\u001b[0m\u001b[0;34m\u001b[0m\u001b[0;34m\u001b[0m\u001b[0m\n\u001b[0;32m----> 3\u001b[0;31m \u001b[0mmean\u001b[0m \u001b[0;34m=\u001b[0m \u001b[0mstats\u001b[0m\u001b[0;34m.\u001b[0m\u001b[0mmean\u001b[0m\u001b[0;34m(\u001b[0m\u001b[0mdata\u001b[0m\u001b[0;34m)\u001b[0m\u001b[0;34m\u001b[0m\u001b[0;34m\u001b[0m\u001b[0m\n\u001b[0m\u001b[1;32m      4\u001b[0m \u001b[0mprint\u001b[0m\u001b[0;34m(\u001b[0m\u001b[0;34mf\"Mean: {mean}\"\u001b[0m\u001b[0;34m)\u001b[0m\u001b[0;34m\u001b[0m\u001b[0;34m\u001b[0m\u001b[0m\n\u001b[1;32m      5\u001b[0m \u001b[0;31m# Median\u001b[0m\u001b[0;34m\u001b[0m\u001b[0;34m\u001b[0m\u001b[0m\n",
            "\u001b[0;31mNameError\u001b[0m: name 'stats' is not defined"
          ]
        }
      ],
      "source": [
        "data = [2, 4, 6, 8, 10, 12, 14]\n",
        "# Mean\n",
        "mean = stats.mean(data)\n",
        "print(f\"Mean: {mean}\")\n",
        "# Median\n",
        "median = stats.median(data)\n",
        "print(f\"Median: {median}\")\n",
        "# Mode\n",
        "data_with_mode = [2, 2, 3, 3, 3, 4, 5]\n",
        "mode = stats.mode(data_with_mode)\n",
        "print(f\"Mode: {mode}\")\n",
        "# Standard Deviation\n",
        "std_dev = stats.stdev(data)\n",
        "print(f\"Standard Deviation: {std_dev}\")\n",
        "# Variance\n",
        "variance = stats.variance(data)\n",
        "print(f\"Variance: {variance}\")"
      ]
    },
    {
      "cell_type": "markdown",
      "source": [
        "# New Section"
      ],
      "metadata": {
        "id": "fEWG-cMlfqAL"
      }
    },
    {
      "cell_type": "markdown",
      "source": [],
      "metadata": {
        "id": "6opfqM1SgSaj"
      }
    },
    {
      "cell_type": "code",
      "source": [
        "import math\n",
        "# Basic mathematical functions\n",
        "x = 16\n",
        "sqrt = math.sqrt(x)\n",
        "print(f\"Square Root of {x}: {sqrt}\")\n",
        "# Trigonometric functions\n",
        "angle = math.radians(45)\n",
        "sin_angle = math.sin(angle)\n",
        "print(f\"Sine of 45 degrees: {sin_angle}\")\n",
        "# Exponential and logarithmic functions\n",
        "log_value = math.log(100, 10)\n",
        "print(f\"Logarithm base 10 of 100: {log_value}\")\n",
        "exp_value = math.exp(2)\n",
        "print(f\"e^2: {exp_value}\")"
      ],
      "metadata": {
        "id": "8bS3-MzCgZ_D",
        "colab": {
          "base_uri": "https://localhost:8080/"
        },
        "outputId": "d7b4c14f-d171-4f82-c602-f12baec162e2"
      },
      "execution_count": 2,
      "outputs": [
        {
          "output_type": "stream",
          "name": "stdout",
          "text": [
            "Square Root of 16: 4.0\n",
            "Sine of 45 degrees: 0.7071067811865475\n",
            "Logarithm base 10 of 100: 2.0\n",
            "e^2: 7.38905609893065\n"
          ]
        }
      ]
    },
    {
      "cell_type": "code",
      "source": [
        "\n",
        "import numpy as np\n",
        "# Create arrays\n",
        "array1 = np.array([1, 2, 3, 4, 5])\n",
        "array2 = np.array([6, 7, 8, 9, 10])\n",
        "# Array operations\n",
        "sum_arrays = array1 + array2\n",
        "print(f\"Sum of arrays: {sum_arrays}\")\n",
        "# Statistical functions\n",
        "mean = np.mean(array1)\n",
        "print(f\"Mean: {mean}\")\n",
        "std_dev = np.std(array1)\n",
        "print(f\"Standard Deviation: {std_dev}\")\n",
        "# Reshaping arrays\n",
        "matrix = np.reshape(array1, (5, 1))\n",
        "print(f\"Reshaped array to matrix:\\n{matrix}\")"
      ],
      "metadata": {
        "id": "oI_NWX5YgeSj",
        "colab": {
          "base_uri": "https://localhost:8080/"
        },
        "outputId": "009322ba-fb63-4b28-c54f-888d45350eb8"
      },
      "execution_count": 3,
      "outputs": [
        {
          "output_type": "stream",
          "name": "stdout",
          "text": [
            "Sum of arrays: [ 7  9 11 13 15]\n",
            "Mean: 3.0\n",
            "Standard Deviation: 1.4142135623730951\n",
            "Reshaped array to matrix:\n",
            "[[1]\n",
            " [2]\n",
            " [3]\n",
            " [4]\n",
            " [5]]\n"
          ]
        }
      ]
    },
    {
      "cell_type": "code",
      "source": [
        "from scipy import stats as scipy_stats\n",
        "import numpy as np\n",
        "# Generate a random sample\n",
        "data = np.random.normal(loc=0, scale=1, size=1000)\n",
        "# Descriptive statistics\n",
        "mean = np.mean(data)\n",
        "std_dev = np.std(data)\n",
        "print(f\"Mean: {mean}, Standard Deviation: {std_dev}\")\n",
        "# T-test\n",
        "t_stat, p_value = scipy_stats.ttest_1samp(data, 0)\n",
        "print(f\"T-statistic: {t_stat}, P-value: {p_value}\")\n",
        "# Pearson correlation coefficient\n",
        "array1 = np.array([1, 2, 3, 4, 5])\n",
        "array2 = np.array([6, 7, 8, 9, 10])\n",
        "correlation, _ = scipy_stats.pearsonr(array1, array2)\n",
        "print(f\"Pearson Correlation Coefficient: {correlation}\")\n"
      ],
      "metadata": {
        "colab": {
          "base_uri": "https://localhost:8080/"
        },
        "id": "0YXu4d4EsvmW",
        "outputId": "18c21681-9af9-4aaa-8adc-163b976480f2"
      },
      "execution_count": 4,
      "outputs": [
        {
          "output_type": "stream",
          "name": "stdout",
          "text": [
            "Mean: -0.03066054324945156, Standard Deviation: 1.0096602259054166\n",
            "T-statistic: -0.9598145770105304, P-value: 0.3373807824935846\n",
            "Pearson Correlation Coefficient: 1.0\n"
          ]
        }
      ]
    }
  ]
}