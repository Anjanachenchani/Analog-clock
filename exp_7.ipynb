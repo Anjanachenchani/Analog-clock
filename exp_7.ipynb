{
  "nbformat": 4,
  "nbformat_minor": 0,
  "metadata": {
    "colab": {
      "provenance": [],
      "authorship_tag": "ABX9TyML2kF2IMRLnW1OOB4ksiFc",
      "include_colab_link": true
    },
    "kernelspec": {
      "name": "python3",
      "display_name": "Python 3"
    },
    "language_info": {
      "name": "python"
    }
  },
  "cells": [
    {
      "cell_type": "markdown",
      "metadata": {
        "id": "view-in-github",
        "colab_type": "text"
      },
      "source": [
        "<a href=\"https://colab.research.google.com/github/Anjanachenchani/Analog-clock/blob/main/exp_7.ipynb\" target=\"_parent\"><img src=\"https://colab.research.google.com/assets/colab-badge.svg\" alt=\"Open In Colab\"/></a>"
      ]
    },
    {
      "cell_type": "code",
      "execution_count": 2,
      "metadata": {
        "colab": {
          "base_uri": "https://localhost:8080/"
        },
        "id": "RBiva3RZ33NZ",
        "outputId": "6cce8c09-30eb-443e-c8ba-da8d4e44195b"
      },
      "outputs": [
        {
          "output_type": "stream",
          "name": "stdout",
          "text": [
            "[2 0 1 2]\n",
            "[1 2 0 1]\n",
            "[0 2 1 0]\n"
          ]
        }
      ],
      "source": [
        "from sklearn import preprocessing\n",
        "\n",
        "#creating labelEncoder\n",
        "le = preprocessing.LabelEncoder()\n",
        "\n",
        "# Define the 'weather' variable with your data\n",
        "# Example:\n",
        "weather = ['Sunny', 'Cloudy', 'Rainy', 'Sunny']\n",
        "\n",
        "# Converting string labels into numbers.\n",
        "weather_encoded=le.fit_transform(weather)\n",
        "print(weather_encoded)\n",
        "# converting string labels into numbers\n",
        "\n",
        "# Define the 'temp' variable with your data\n",
        "# Example:\n",
        "temp = ['Hot', 'Mild', 'Cold', 'Hot']\n",
        "\n",
        "temp_encoded=le.fit_transform(temp)\n",
        "print(temp_encoded)\n",
        "# converting string labels into numbers\n",
        "\n",
        "# Define the 'humi' variable with your data\n",
        "# Example:\n",
        "humi = ['High', 'Normal', 'Low', 'High']\n",
        "\n",
        "humi_encoded=le.fit_transform(humi)\n",
        "print(humi_encoded)"
      ]
    },
    {
      "cell_type": "code",
      "source": [
        "# 1. Defining dataset\n",
        "weather = ['Sunny', 'Sunny', 'Overcast', 'Rainy', 'Rainy', 'Rainy', 'Overcast',\n",
        "           'Sunny', 'Sunny', 'Rainy', 'Sunny', 'Overcast', 'Overcast', 'Rainy']\n",
        "temp = ['Hot', 'Hot', 'Hot', 'Mild', 'Cool', 'Cool', 'Cool',\n",
        "        'Mild', 'Cool', 'Mild', 'Mild', 'Mild', 'Hot', 'Mild']\n",
        "humi = ['High', 'High', 'High', 'High', 'No', 'No', 'No',\n",
        "        'High', 'No', 'No', 'No', 'High', 'No', 'High']\n",
        "label = ['No', 'No', 'Yes', 'Yes', 'Yes', 'No', 'Yes',\n",
        "         'No', 'Yes', 'Yes', 'Yes', 'Yes', 'Yes', 'No']\n",
        "\n",
        "# 2. Encoding data columns\n",
        "from sklearn import preprocessing\n",
        "le = preprocessing.LabelEncoder()\n",
        "\n",
        "weather_encoded = le.fit_transform(weather)\n",
        "print(weather_encoded)\n",
        "\n",
        "temp_encoded = le.fit_transform(temp)\n",
        "print(temp_encoded)\n",
        "\n",
        "humi_encoded = le.fit_transform(humi)\n",
        "print(humi_encoded)\n",
        "\n",
        "# 3. Combining features\n",
        "features = list(zip(weather_encoded, temp_encoded, humi_encoded))\n",
        "\n",
        "# 4. Generating Model\n",
        "from sklearn.neighbors import KNeighborsClassifier\n",
        "\n",
        "model = KNeighborsClassifier(n_neighbors=3)\n",
        "model.fit(features, label)\n",
        "\n",
        "# Predict Output\n",
        "predicted = model.predict([[0, 0, 0]])  # 0:Overcast, 0:Cool, 0:No\n",
        "print(predicted)\n"
      ],
      "metadata": {
        "colab": {
          "base_uri": "https://localhost:8080/"
        },
        "id": "86h8rI8R4hYn",
        "outputId": "29ef50a1-c553-4fb3-ee21-c19d6be0f91a"
      },
      "execution_count": 3,
      "outputs": [
        {
          "output_type": "stream",
          "name": "stdout",
          "text": [
            "[2 2 0 1 1 1 0 2 2 1 2 0 0 1]\n",
            "[1 1 1 2 0 0 0 2 0 2 2 2 1 2]\n",
            "[0 0 0 0 1 1 1 0 1 1 1 0 1 0]\n",
            "['Yes']\n"
          ]
        }
      ]
    }
  ]
}